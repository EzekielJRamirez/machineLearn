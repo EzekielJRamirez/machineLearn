{
 "cells": [
  {
   "cell_type": "markdown",
   "id": "1755e5f8",
   "metadata": {},
   "source": [
    "Week 3\n",
    "https://scikit-learn.org/stable/\n",
    "\n",
    "Chapter 3\n",
    "    -predicting categories with classification methods\n",
    "    \n",
    "scikit learn been around since 2007\n",
    "    - mostly written in python\n",
    "    - fast\n",
    "\n",
    "distance is a measurable quantity for computers\n",
    "\n",
    "euclidean distance - length of segment connecting two points\n",
    "    - think of right triangle\n",
    "    \n",
    "cosine similarity\n",
    "    - high dimensional data\n",
    "    - vectors with same orientation have cosine of 1, opposed vectors have cosine -1\n",
    "    \n",
    "what is the curse of dimensionality???\n",
    "\n",
    "train: data that the machine has seen before\n",
    "\n",
    "target: data that the machine has not seen before\n",
    "\n",
    "knn model\n",
    "    - k nearest neighbor\n",
    "    - use the nearest neighbors then measure their distances, figure out which group is closest\n",
    "    - or use count the neighbors in certain radius\n",
    "    \n",
    "Naive Bayes\n",
    "    - good alg for text classification\n",
    "    - treat each word as unique feature\n",
    "    - lab #3 will feature naive bayes to find author of email\n",
    "    \n",
    "conditional probability\n",
    "    - needs base amount\n",
    "    \n",
    "multi-nomial naive bayes for text classification\n",
    "\n",
    "NEXT HOMEWORK\n",
    "Spam email detection\n",
    "\n",
    "check out kaggle\n",
    "    - it is google social media for \"data nerds\"\n",
    "    \n",
    "Wednesday\n",
    "    - downloaded a textbook\n",
    "    - reduced ref vs ref forms!!!\n",
    "    - what is gaussian elimination???\n",
    "        o guassion is just the mathod of start from top right going 'foreward' then at bottom left going 'backwards'\n",
    "        o check the lecture notes!!!\n",
    "    \n",
    "    \n",
    "    properties of  reduced row echelon form\n",
    "    1. first non-zero in each row is 1\n",
    "    2. each leading 1 comes in a col to right\n",
    "    3. all rows of all 0's come at the bot. of matrix\n",
    "    4. if a col cantains a leading 1, then all other entries in that col are 0\n",
    "    \n",
    "    check the homework on BB\n",
    "        - hand elim of matrices using gaussian!!!"
   ]
  },
  {
   "cell_type": "code",
   "execution_count": 15,
   "id": "e4e0c552",
   "metadata": {},
   "outputs": [
    {
     "name": "stdout",
     "output_type": "stream",
     "text": [
      "Train features shape:  (112, 4)\n",
      "Test features shape:  (38, 4)\n",
      "(112,)\n",
      "(38,)\n"
     ]
    }
   ],
   "source": [
    "# everyone uses scikit-learn\n",
    "# it is most used github page\n",
    "# https://scikit-learn.org/stable/\n",
    "\n",
    "from mlwpy import *\n",
    "\n",
    "%matplotlib inline\n",
    "\n",
    "iris = datasets.load_iris()\n",
    "iris\n",
    "\n",
    "iris_df = pd.DataFrame(iris.data, columns=iris.feature_names)\n",
    "\n",
    "iris_df.head()\n",
    "\n",
    "# 3.3 training and testing\n",
    "(iris_train_ftrs, iris_test_ftrs, iris_train_tgt, iris_test_tgt) = skms.train_test_split(iris.data, iris.target, test_size=0.25)\n",
    "\n",
    "print(\"Train features shape: \", iris_train_ftrs.shape)\n",
    "print(\"Test features shape: \", iris_test_ftrs.shape)\n",
    "\n",
    "print(iris_train_tgt.shape)\n",
    "print(iris_test_tgt.shape)\n",
    "\n",
    "# print(iris_train_tgt.shape)"
   ]
  },
  {
   "cell_type": "code",
   "execution_count": 14,
   "id": "c47ca54e",
   "metadata": {},
   "outputs": [
    {
     "name": "stdout",
     "output_type": "stream",
     "text": [
      "manual accuracy:  0.75\n",
      "sklearn accuracy:  0.75\n"
     ]
    }
   ],
   "source": [
    "# 3.4 basic eval \n",
    "\n",
    "answer_key = np.array([True, True, False, True])\n",
    "student_answers = np.array([True, True, True, True])\n",
    "\n",
    "# calc the accuracy in 3 steps\n",
    "\n",
    "correct = answer_key == student_answers\n",
    "\n",
    "num_correct = correct.sum()\n",
    "\n",
    "print(\"manual accuracy: \", num_correct/len(answer_key))\n",
    "\n",
    "print(\"sklearn accuracy: \", metrics.accuracy_score(answer_key, student_answers))"
   ]
  },
  {
   "cell_type": "code",
   "execution_count": 17,
   "id": "94bad997",
   "metadata": {},
   "outputs": [
    {
     "name": "stdout",
     "output_type": "stream",
     "text": [
      "3NN accuracy:  0.9210526315789473\n"
     ]
    }
   ],
   "source": [
    "# 3.5 Classifier: nearest neighbor\n",
    "\n",
    "knn = neighbors.KNeighborsClassifier(n_neighbors=3)\n",
    "fit = knn.fit(iris_train_ftrs, iris_train_tgt)\n",
    "preds = fit.predict(iris_test_ftrs)\n",
    "\n",
    "print(\"3NN accuracy: \", metrics.accuracy_score(iris_test_tgt, preds))"
   ]
  },
  {
   "cell_type": "code",
   "execution_count": 18,
   "id": "d6ec5789",
   "metadata": {},
   "outputs": [
    {
     "name": "stdout",
     "output_type": "stream",
     "text": [
      "NB accuracy:  0.9210526315789473\n"
     ]
    }
   ],
   "source": [
    "# 3.7 Naive Bayes\n",
    "\n",
    "nb = naive_bayes.GaussianNB()\n",
    "fit = nb.fit(iris_train_ftrs, iris_train_tgt)\n",
    "preds = fit.predict(iris_test_ftrs)\n",
    "\n",
    "print(\"NB accuracy: \", metrics.accuracy_score(iris_test_tgt, preds))"
   ]
  },
  {
   "cell_type": "code",
   "execution_count": null,
   "id": "ba5b17cd",
   "metadata": {},
   "outputs": [],
   "source": [
    "# code the section 3.6 on your own\n",
    "\n",
    "# ensemble model is when multiple models are used to get prediction results\n",
    "\n",
    "# CHECK THE HOMEWORK ASSIGNMENT -- due next thursday!!!"
   ]
  }
 ],
 "metadata": {
  "kernelspec": {
   "display_name": "Python 3 (ipykernel)",
   "language": "python",
   "name": "python3"
  },
  "language_info": {
   "codemirror_mode": {
    "name": "ipython",
    "version": 3
   },
   "file_extension": ".py",
   "mimetype": "text/x-python",
   "name": "python",
   "nbconvert_exporter": "python",
   "pygments_lexer": "ipython3",
   "version": "3.9.13"
  }
 },
 "nbformat": 4,
 "nbformat_minor": 5
}
