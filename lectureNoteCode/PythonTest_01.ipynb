{
 "cells": [
  {
   "cell_type": "code",
   "execution_count": 20,
   "id": "20b98b3b",
   "metadata": {},
   "outputs": [
    {
     "name": "stdout",
     "output_type": "stream",
     "text": [
      "hello world\n",
      "33\n",
      "23\n",
      "hello world 33\n"
     ]
    }
   ],
   "source": [
    "print('hello world')\n",
    "\n",
    "a = 33\n",
    "print(a)\n",
    "\n",
    "b = -10\n",
    "\n",
    "print(a + b)\n",
    "\n",
    "print('hello', 'world', a)"
   ]
  },
  {
   "cell_type": "markdown",
   "id": "5c9566c1",
   "metadata": {},
   "source": [
    "#notes here\n",
    "\n",
    "# lect 2\n",
    "\n",
    "predicting categories\n",
    "    image classify\n",
    "    stock price\n",
    "    medical diagnosis\n",
    "    \n",
    "predict values\n",
    "    student success\n",
    "    future stock price\n",
    "    web browse behavior\n",
    "    \n",
    "NEVER 100% SURE!!!\n",
    "\n",
    "\n",
    "Evaluation dimensions\n",
    "    how correct is prediction?\n",
    "    what is cost of making prediction?\n",
    "    be aware of trade off between space/time complexity\n",
    "    \n",
    "PROCESS FOR BUILDING LEARNING SYSTEMS\n",
    "    1. understand the problem\n",
    "    2. collect data\n",
    "    3. prepare data\n",
    "    4. build model of relationships\n",
    "    5. evaluate and compare models\n",
    "    6. transition the model into deployable system\n",
    "    ** data is king!!! choose simple alg with large data sample\n",
    "    \n",
    "    ?? what is machine learning engineer??\n",
    "    ?? what is dev ops??\n",
    "    \n",
    "    ** many times engineers are running experimental model with hypertuned algorithm\n",
    "    ** if you get good at messaging the data, it can lead to good jobs\n",
    "    \n",
    "Model training phase\n",
    "    prediction phase: regression\n",
    "    prediction phase: classification\n",
    "    ** evaluate data, if not good go throught the process until it looks better\n",
    "    \n",
    "Assumptions and reality of learning\n",
    "    noise: collected data that interferes with research\n",
    "    you should know the relevant features in the data\n",
    "    more data is almost always better than less data\n",
    "    ** use hyper tuning to make process more/less sensitive to some types of data\n",
    "    data is recorded measures\n",
    "        - data is susceptile to errors/innaccuracy\n",
    "        - never going to be 100% accurate\n",
    "        - some domains can have more errors than others, for ex. people can lie or exagerate\n",
    "        \n",
    "    we don't know every piece of info in 'causal mechanism'\n",
    "        - our outcomes may not be known with complete accuracy\n",
    "        - we will never know all factors that contribute to heart disease\n",
    "        ?? what is a stationary model ??\n",
    "        \n",
    "Randomness vs God's Sovereignty\n",
    "    secular view: some processes are fundamentally random quirks\n",
    "    \n",
    "    christian view: god is sovereign and nothing is random\n",
    "        \n",
    "Jupyter Notebook\n",
    "\n",
    "reccomendded reading\n",
    "    https://wesmckinney.com/book/"
   ]
  },
  {
   "cell_type": "code",
   "execution_count": 8,
   "id": "b48c5f33",
   "metadata": {},
   "outputs": [
    {
     "name": "stdout",
     "output_type": "stream",
     "text": [
      "The Python version is 3.9.13 (main, Aug 25 2022, 23:51:50) [MSC v.1916 64 bit (AMD64)],\n",
      "\n",
      "The Numpy version is 1.21.5.\n",
      "\n",
      "Tthe pandas version is 1.4.4.\n",
      "\n",
      "The Matplotlib version is 3.5.2.\n",
      "\n"
     ]
    }
   ],
   "source": [
    "import sys\n",
    "import numpy as np\n",
    "import pandas as pd\n",
    "import matplotlib as mpl\n",
    "import sklearn\n",
    "\n",
    "print('The Python version is {},\\n'.format(sys.version))\n",
    "print('The Numpy version is {}.\\n'.format(np.__version__))\n",
    "print('Tthe pandas version is {}.\\n'.format(pd.__version__))\n",
    "print('The Matplotlib version is {}.\\n'.format(mpl.__version__))"
   ]
  },
  {
   "cell_type": "markdown",
   "id": "b5fe8fb7",
   "metadata": {},
   "source": [
    "eueuteuh\n",
    "learn the mark up rules"
   ]
  },
  {
   "cell_type": "code",
   "execution_count": 9,
   "id": "6c35d021",
   "metadata": {},
   "outputs": [
    {
     "data": {
      "text/plain": [
       "'C:\\\\Users\\\\Zeeker\\\\PythonPrograms'"
      ]
     },
     "execution_count": 9,
     "metadata": {},
     "output_type": "execute_result"
    }
   ],
   "source": [
    "pwd"
   ]
  },
  {
   "cell_type": "code",
   "execution_count": 11,
   "id": "0ef57daa",
   "metadata": {},
   "outputs": [],
   "source": [
    "df = pd.read_excel('default_of_credit_card_clients__courseware_version_1_21_19.xls')\n",
    "# pd.read_cvs()"
   ]
  },
  {
   "cell_type": "code",
   "execution_count": 12,
   "id": "61ea3ae2",
   "metadata": {},
   "outputs": [
    {
     "data": {
      "text/plain": [
       "(30000, 25)"
      ]
     },
     "execution_count": 12,
     "metadata": {},
     "output_type": "execute_result"
    }
   ],
   "source": [
    "df.shape"
   ]
  },
  {
   "cell_type": "code",
   "execution_count": 13,
   "id": "2996e294",
   "metadata": {},
   "outputs": [
    {
     "data": {
      "text/plain": [
       "Index(['ID', 'LIMIT_BAL', 'SEX', 'EDUCATION', 'MARRIAGE', 'AGE', 'PAY_1',\n",
       "       'PAY_2', 'PAY_3', 'PAY_4', 'PAY_5', 'PAY_6', 'BILL_AMT1', 'BILL_AMT2',\n",
       "       'BILL_AMT3', 'BILL_AMT4', 'BILL_AMT5', 'BILL_AMT6', 'PAY_AMT1',\n",
       "       'PAY_AMT2', 'PAY_AMT3', 'PAY_AMT4', 'PAY_AMT5', 'PAY_AMT6',\n",
       "       'default payment next month'],\n",
       "      dtype='object')"
      ]
     },
     "execution_count": 13,
     "metadata": {},
     "output_type": "execute_result"
    }
   ],
   "source": [
    "df.columns"
   ]
  },
  {
   "cell_type": "code",
   "execution_count": 14,
   "id": "68a4375f",
   "metadata": {},
   "outputs": [
    {
     "data": {
      "text/html": [
       "<div>\n",
       "<style scoped>\n",
       "    .dataframe tbody tr th:only-of-type {\n",
       "        vertical-align: middle;\n",
       "    }\n",
       "\n",
       "    .dataframe tbody tr th {\n",
       "        vertical-align: top;\n",
       "    }\n",
       "\n",
       "    .dataframe thead th {\n",
       "        text-align: right;\n",
       "    }\n",
       "</style>\n",
       "<table border=\"1\" class=\"dataframe\">\n",
       "  <thead>\n",
       "    <tr style=\"text-align: right;\">\n",
       "      <th></th>\n",
       "      <th>ID</th>\n",
       "      <th>LIMIT_BAL</th>\n",
       "      <th>SEX</th>\n",
       "      <th>EDUCATION</th>\n",
       "      <th>MARRIAGE</th>\n",
       "      <th>AGE</th>\n",
       "      <th>PAY_1</th>\n",
       "      <th>PAY_2</th>\n",
       "      <th>PAY_3</th>\n",
       "      <th>PAY_4</th>\n",
       "      <th>...</th>\n",
       "      <th>BILL_AMT4</th>\n",
       "      <th>BILL_AMT5</th>\n",
       "      <th>BILL_AMT6</th>\n",
       "      <th>PAY_AMT1</th>\n",
       "      <th>PAY_AMT2</th>\n",
       "      <th>PAY_AMT3</th>\n",
       "      <th>PAY_AMT4</th>\n",
       "      <th>PAY_AMT5</th>\n",
       "      <th>PAY_AMT6</th>\n",
       "      <th>default payment next month</th>\n",
       "    </tr>\n",
       "  </thead>\n",
       "  <tbody>\n",
       "    <tr>\n",
       "      <th>0</th>\n",
       "      <td>798fc410-45c1</td>\n",
       "      <td>20000</td>\n",
       "      <td>2</td>\n",
       "      <td>2</td>\n",
       "      <td>1</td>\n",
       "      <td>24</td>\n",
       "      <td>2</td>\n",
       "      <td>2</td>\n",
       "      <td>-1</td>\n",
       "      <td>-1</td>\n",
       "      <td>...</td>\n",
       "      <td>0</td>\n",
       "      <td>0</td>\n",
       "      <td>0</td>\n",
       "      <td>0</td>\n",
       "      <td>689</td>\n",
       "      <td>0</td>\n",
       "      <td>0</td>\n",
       "      <td>0</td>\n",
       "      <td>0</td>\n",
       "      <td>1</td>\n",
       "    </tr>\n",
       "    <tr>\n",
       "      <th>1</th>\n",
       "      <td>8a8c8f3b-8eb4</td>\n",
       "      <td>120000</td>\n",
       "      <td>2</td>\n",
       "      <td>2</td>\n",
       "      <td>2</td>\n",
       "      <td>26</td>\n",
       "      <td>-1</td>\n",
       "      <td>2</td>\n",
       "      <td>0</td>\n",
       "      <td>0</td>\n",
       "      <td>...</td>\n",
       "      <td>3272</td>\n",
       "      <td>3455</td>\n",
       "      <td>3261</td>\n",
       "      <td>0</td>\n",
       "      <td>1000</td>\n",
       "      <td>1000</td>\n",
       "      <td>1000</td>\n",
       "      <td>0</td>\n",
       "      <td>2000</td>\n",
       "      <td>1</td>\n",
       "    </tr>\n",
       "    <tr>\n",
       "      <th>2</th>\n",
       "      <td>85698822-43f5</td>\n",
       "      <td>90000</td>\n",
       "      <td>2</td>\n",
       "      <td>2</td>\n",
       "      <td>2</td>\n",
       "      <td>34</td>\n",
       "      <td>0</td>\n",
       "      <td>0</td>\n",
       "      <td>0</td>\n",
       "      <td>0</td>\n",
       "      <td>...</td>\n",
       "      <td>14331</td>\n",
       "      <td>14948</td>\n",
       "      <td>15549</td>\n",
       "      <td>1518</td>\n",
       "      <td>1500</td>\n",
       "      <td>1000</td>\n",
       "      <td>1000</td>\n",
       "      <td>1000</td>\n",
       "      <td>5000</td>\n",
       "      <td>0</td>\n",
       "    </tr>\n",
       "    <tr>\n",
       "      <th>3</th>\n",
       "      <td>0737c11b-be42</td>\n",
       "      <td>50000</td>\n",
       "      <td>2</td>\n",
       "      <td>2</td>\n",
       "      <td>1</td>\n",
       "      <td>37</td>\n",
       "      <td>0</td>\n",
       "      <td>0</td>\n",
       "      <td>0</td>\n",
       "      <td>0</td>\n",
       "      <td>...</td>\n",
       "      <td>28314</td>\n",
       "      <td>28959</td>\n",
       "      <td>29547</td>\n",
       "      <td>2000</td>\n",
       "      <td>2019</td>\n",
       "      <td>1200</td>\n",
       "      <td>1100</td>\n",
       "      <td>1069</td>\n",
       "      <td>1000</td>\n",
       "      <td>0</td>\n",
       "    </tr>\n",
       "    <tr>\n",
       "      <th>4</th>\n",
       "      <td>3b7f77cc-dbc0</td>\n",
       "      <td>50000</td>\n",
       "      <td>1</td>\n",
       "      <td>2</td>\n",
       "      <td>1</td>\n",
       "      <td>57</td>\n",
       "      <td>-1</td>\n",
       "      <td>0</td>\n",
       "      <td>-1</td>\n",
       "      <td>0</td>\n",
       "      <td>...</td>\n",
       "      <td>20940</td>\n",
       "      <td>19146</td>\n",
       "      <td>19131</td>\n",
       "      <td>2000</td>\n",
       "      <td>36681</td>\n",
       "      <td>10000</td>\n",
       "      <td>9000</td>\n",
       "      <td>689</td>\n",
       "      <td>679</td>\n",
       "      <td>0</td>\n",
       "    </tr>\n",
       "  </tbody>\n",
       "</table>\n",
       "<p>5 rows × 25 columns</p>\n",
       "</div>"
      ],
      "text/plain": [
       "              ID  LIMIT_BAL  SEX  EDUCATION  MARRIAGE  AGE PAY_1  PAY_2  \\\n",
       "0  798fc410-45c1      20000    2          2         1   24     2      2   \n",
       "1  8a8c8f3b-8eb4     120000    2          2         2   26    -1      2   \n",
       "2  85698822-43f5      90000    2          2         2   34     0      0   \n",
       "3  0737c11b-be42      50000    2          2         1   37     0      0   \n",
       "4  3b7f77cc-dbc0      50000    1          2         1   57    -1      0   \n",
       "\n",
       "   PAY_3  PAY_4  ...  BILL_AMT4  BILL_AMT5  BILL_AMT6  PAY_AMT1  PAY_AMT2  \\\n",
       "0     -1     -1  ...          0          0          0         0       689   \n",
       "1      0      0  ...       3272       3455       3261         0      1000   \n",
       "2      0      0  ...      14331      14948      15549      1518      1500   \n",
       "3      0      0  ...      28314      28959      29547      2000      2019   \n",
       "4     -1      0  ...      20940      19146      19131      2000     36681   \n",
       "\n",
       "   PAY_AMT3  PAY_AMT4  PAY_AMT5  PAY_AMT6  default payment next month  \n",
       "0         0         0         0         0                           1  \n",
       "1      1000      1000         0      2000                           1  \n",
       "2      1000      1000      1000      5000                           0  \n",
       "3      1200      1100      1069      1000                           0  \n",
       "4     10000      9000       689       679                           0  \n",
       "\n",
       "[5 rows x 25 columns]"
      ]
     },
     "execution_count": 14,
     "metadata": {},
     "output_type": "execute_result"
    }
   ],
   "source": [
    "df.head()\n",
    "# gives the first 5 rows of dataframe"
   ]
  },
  {
   "cell_type": "code",
   "execution_count": null,
   "id": "2a6f5bbd",
   "metadata": {},
   "outputs": [],
   "source": [
    "df.shape"
   ]
  },
  {
   "cell_type": "code",
   "execution_count": 15,
   "id": "174f5454",
   "metadata": {},
   "outputs": [
    {
     "data": {
      "text/plain": [
       "29687"
      ]
     },
     "execution_count": 15,
     "metadata": {},
     "output_type": "execute_result"
    }
   ],
   "source": [
    "df['ID'].nunique()"
   ]
  },
  {
   "cell_type": "code",
   "execution_count": 19,
   "id": "d45c15a2",
   "metadata": {},
   "outputs": [
    {
     "name": "stdout",
     "output_type": "stream",
     "text": [
      "Hello world!\n"
     ]
    }
   ],
   "source": [
    "def hello_world():\n",
    "    print('Hello world!')\n",
    "    # method lines must be indented by 4 spaces!!!\n",
    "    \n",
    "hello_world()\n",
    "# review chapter 2 from the book"
   ]
  },
  {
   "cell_type": "markdown",
   "id": "1af17b6e",
   "metadata": {},
   "source": [
    "# Week 2 notes\n",
    "\n",
    "check out chatgpt\n",
    "\n",
    "download the mlwpy.py file from BB\n",
    "\n",
    "work thru the notebooks as honestly as possible\n",
    "\n",
    "libraries\n",
    "- numpy\n",
    "- pandas\n",
    "- matplotlib >> visualization library\n",
    "** bookmark the links from the lecture\n",
    "\n",
    "MATH REVIEW\n",
    "experiment - generates an outcome/primitive event\n",
    "    flip a coin and you either get head or tails\n",
    "\n",
    "we are also interested in multiple outcomes\n",
    "\n",
    "one dice >> cardinality is 6 outcomes\n",
    "two dice >> cardinality is 6x6 = 36 outcomes\n",
    "\n",
    "counting vs summing all possible outcomes\n",
    "P(e)\n",
    "sigma E\n",
    "\n",
    "RULES\n",
    "1. all events must equal one\n",
    "2. probability of some outcome must be greater than 0 and less than 1\n",
    "3. prob of complement A must equal 1 - P(A)\n",
    "4. compound event is combination of primitive events P(odd) = P(1) + P(3) + ...\n",
    "    - be careful of values that overlap, avoid double counting by subtracting the correct amounts\n",
    "\n",
    "INDEPENDENT EVENTS\n",
    "\n",
    "when you throw two dice they do not influence each other\n",
    "\n",
    "?Naive bayes rule?\n",
    "the probability of A given B\n",
    "    P(A|B) = P(A intersect B) / P(B)"
   ]
  },
  {
   "cell_type": "code",
   "execution_count": 2,
   "id": "1f38ba38",
   "metadata": {},
   "outputs": [],
   "source": [
    "%matplotlib inline"
   ]
  },
  {
   "cell_type": "code",
   "execution_count": 5,
   "id": "3087df90",
   "metadata": {},
   "outputs": [
    {
     "data": {
      "text/plain": [
       "[(0.0, 8.0),\n",
       " [<matplotlib.axis.XTick at 0x13d85a20a90>,\n",
       "  <matplotlib.axis.XTick at 0x13d85a20a60>,\n",
       "  <matplotlib.axis.XTick at 0x13d85a20190>,\n",
       "  <matplotlib.axis.XTick at 0x13d85a5e460>,\n",
       "  <matplotlib.axis.XTick at 0x13d85a5ebb0>,\n",
       "  <matplotlib.axis.XTick at 0x13d85a64340>,\n",
       "  <matplotlib.axis.XTick at 0x13d85a64a90>],\n",
       " (0.0, 8.0),\n",
       " [<matplotlib.axis.YTick at 0x13d85a26a90>,\n",
       "  <matplotlib.axis.YTick at 0x13d85a26310>,\n",
       "  <matplotlib.axis.YTick at 0x13d85a201c0>,\n",
       "  <matplotlib.axis.YTick at 0x13d85a5eca0>,\n",
       "  <matplotlib.axis.YTick at 0x13d85a6c490>,\n",
       "  <matplotlib.axis.YTick at 0x13d85a6cbe0>,\n",
       "  <matplotlib.axis.YTick at 0x13d85a74370>]]"
      ]
     },
     "execution_count": 5,
     "metadata": {},
     "output_type": "execute_result"
    },
    {
     "data": {
      "image/png": "[encoded data removed]",
      "text/plain": [
       "<Figure size 200x200 with 1 Axes>"
      ]
     },
     "metadata": {},
     "output_type": "display_data"
    }
   ],
   "source": [
    "# import the best one\n",
    "# from mlwpy import *\n",
    "# %matplotlib inline\n",
    "\n",
    "import matplotlib.pyplot as plt\n",
    "import numpy as np\n",
    "plt.style.use('_mpl-gallery')\n",
    "\n",
    "# make data:\n",
    "np.random.seed(3)\n",
    "x = 0.5 + np.arange(8)\n",
    "y = np.random.uniform(2, 7, len(x))\n",
    "\n",
    "# plot\n",
    "fig, ax = plt.subplots()\n",
    "\n",
    "ax.bar(x, y, width = 1, edgecolor='white', linewidth=0.7)\n",
    "\n",
    "ax.set(xlim=(0, 8), xticks=np.arange(1, 8),\n",
    "       ylim=(0, 8), yticks=np.arange(1,8))"
   ]
  },
  {
   "cell_type": "code",
   "execution_count": null,
   "id": "cbbb27c0",
   "metadata": {},
   "outputs": [],
   "source": [
    "# spend an hour a day on the python hw\n",
    "# double check the BB for assignments"
   ]
  },
  {
   "cell_type": "markdown",
   "id": "724bcc7a",
   "metadata": {},
   "source": [
    "why study linear algebra?\n",
    "    -it is the mathematics of data\n",
    "    \n",
    "Numerical linear algebra\n",
    "    -"
   ]
  },
  {
   "cell_type": "code",
   "execution_count": 2,
   "id": "b325ce2a",
   "metadata": {},
   "outputs": [],
   "source": [
    "from mlwpy import *"
   ]
  },
  {
   "cell_type": "code",
   "execution_count": 4,
   "id": "5fd9aaf3",
   "metadata": {},
   "outputs": [
    {
     "data": {
      "text/plain": [
       "36.25"
      ]
     },
     "execution_count": 4,
     "metadata": {},
     "output_type": "execute_result"
    }
   ],
   "source": [
    "quantity = np.array([2, 12, 3])\n",
    "costs = np.array([12.5, .5, 1.75])\n",
    "np.sum(quantity * costs)"
   ]
  },
  {
   "cell_type": "code",
   "execution_count": 6,
   "id": "926c48c6",
   "metadata": {},
   "outputs": [
    {
     "name": "stdout",
     "output_type": "stream",
     "text": [
      "36.25\n",
      "36.25\n",
      "36.25\n"
     ]
    }
   ],
   "source": [
    "print(quantity.dot(costs),\n",
    "     np.dot(quantity,costs),\n",
    "     quantity @ costs,\n",
    "     \n",
    "     sep='\\n')"
   ]
  },
  {
   "cell_type": "code",
   "execution_count": 7,
   "id": "956bc77a",
   "metadata": {},
   "outputs": [
    {
     "data": {
      "text/plain": [
       "17.5"
      ]
     },
     "execution_count": 7,
     "metadata": {},
     "output_type": "execute_result"
    }
   ],
   "source": [
    "values = np.array([10, 20, 30])\n",
    "weights = np.array([.5, .25, .25])\n",
    "np.dot(weights, values)"
   ]
  },
  {
   "cell_type": "code",
   "execution_count": 8,
   "id": "3e14d474",
   "metadata": {},
   "outputs": [
    {
     "name": "stdout",
     "output_type": "stream",
     "text": [
      "[25  9  4  1]\n",
      "39\n",
      "39\n"
     ]
    }
   ],
   "source": [
    "values = np.array([5, -3, 2, 1])\n",
    "squares = values * values\n",
    "print(squares,\n",
    "     np.sum(squares),\n",
    "     np.dot(values, values),\n",
    "     \n",
    "     sep='\\n')"
   ]
  },
  {
   "cell_type": "code",
   "execution_count": 9,
   "id": "c580ea8f",
   "metadata": {},
   "outputs": [
    {
     "name": "stderr",
     "output_type": "stream",
     "text": [
      "C:\\Users\\Zeeker\\PythonPrograms\\mlwpy.py:55: FutureWarning: In future versions `DataFrame.to_latex` is expected to utilise the base implementation of `Styler.to_latex` for formatting and rendering. The arguments signature may therefore change. It is recommended instead to use `DataFrame.style.to_latex` which also contains additional functionality.\n",
      "  return \"{\\centering\\n%s\\n\\medskip}\" % self.to_latex()\n"
     ]
    },
    {
     "data": {
      "text/html": [
       "<div>\n",
       "<style scoped>\n",
       "    .dataframe tbody tr th:only-of-type {\n",
       "        vertical-align: middle;\n",
       "    }\n",
       "\n",
       "    .dataframe tbody tr th {\n",
       "        vertical-align: top;\n",
       "    }\n",
       "\n",
       "    .dataframe thead th {\n",
       "        text-align: right;\n",
       "    }\n",
       "</style>\n",
       "<table border=\"1\" class=\"dataframe\">\n",
       "  <thead>\n",
       "    <tr style=\"text-align: right;\">\n",
       "      <th></th>\n",
       "      <th>errors</th>\n",
       "      <th>squared</th>\n",
       "    </tr>\n",
       "  </thead>\n",
       "  <tbody>\n",
       "    <tr>\n",
       "      <th>0</th>\n",
       "      <td>5.0000</td>\n",
       "      <td>25.0000</td>\n",
       "    </tr>\n",
       "    <tr>\n",
       "      <th>1</th>\n",
       "      <td>-5.0000</td>\n",
       "      <td>25.0000</td>\n",
       "    </tr>\n",
       "    <tr>\n",
       "      <th>2</th>\n",
       "      <td>3.2000</td>\n",
       "      <td>10.2400</td>\n",
       "    </tr>\n",
       "    <tr>\n",
       "      <th>3</th>\n",
       "      <td>-1.1000</td>\n",
       "      <td>1.2100</td>\n",
       "    </tr>\n",
       "  </tbody>\n",
       "</table>\n",
       "</div>"
      ],
      "text/latex": [
       "{\\centering\n",
       "\\begin{tabular}{lrr}\n",
       "\\toprule\n",
       "{} &               errors &              squared \\\\\n",
       "\\midrule\n",
       "0 &               5.0000 &              25.0000 \\\\\n",
       "1 &              -5.0000 &              25.0000 \\\\\n",
       "2 &               3.2000 &              10.2400 \\\\\n",
       "3 &              -1.1000 &               1.2100 \\\\\n",
       "\\bottomrule\n",
       "\\end{tabular}\n",
       "\n",
       "\\medskip}"
      ],
      "text/plain": [
       "                errors              squared\n",
       "0               5.0000              25.0000\n",
       "1              -5.0000              25.0000\n",
       "2               3.2000              10.2400\n",
       "3              -1.1000               1.2100"
      ]
     },
     "metadata": {},
     "output_type": "display_data"
    }
   ],
   "source": [
    "errors = np.array([5, -5, 3.2, -1.1])\n",
    "display(pd.DataFrame({'errors': errors,\n",
    "                     'squared': errors * errors}))"
   ]
  },
  {
   "cell_type": "code",
   "execution_count": 11,
   "id": "cf0e3b4e",
   "metadata": {},
   "outputs": [],
   "source": [
    "from mlwpy import *"
   ]
  },
  {
   "cell_type": "code",
   "execution_count": 12,
   "id": "3877ddb7",
   "metadata": {},
   "outputs": [
    {
     "data": {
      "text/plain": [
       "Text(0, 0.5, 'Cost\\n(Parking Only)')"
      ]
     },
     "execution_count": 12,
     "metadata": {},
     "output_type": "execute_result"
    },
    {
     "data": {
      "image/png": "[encoded data removed]",
      "text/plain": [
       "<Figure size 400x300 with 1 Axes>"
      ]
     },
     "metadata": {},
     "output_type": "display_data"
    }
   ],
   "source": [
    "people = np.arange(1, 11)\n",
    "tot_cost = np.ones_like(people) * 40.0\n",
    "\n",
    "ax = plt.gca()\n",
    "\n",
    "ax.plot(people, tot_cost)\n",
    "ax.set_xlabel(\"# People\")\n",
    "ax.set_ylabel(\"Cost\\n(Parking Only)\")"
   ]
  },
  {
   "cell_type": "code",
   "execution_count": 13,
   "id": "4d9c717e",
   "metadata": {},
   "outputs": [],
   "source": [
    "people = np.arange(1, 11)\n",
    "tot_cost = 80.0 * people + 40.0"
   ]
  },
  {
   "cell_type": "code",
   "execution_count": 14,
   "id": "50acdfb1",
   "metadata": {},
   "outputs": [
    {
     "name": "stderr",
     "output_type": "stream",
     "text": [
      "C:\\Users\\Zeeker\\PythonPrograms\\mlwpy.py:55: FutureWarning: In future versions `DataFrame.to_latex` is expected to utilise the base implementation of `Styler.to_latex` for formatting and rendering. The arguments signature may therefore change. It is recommended instead to use `DataFrame.style.to_latex` which also contains additional functionality.\n",
      "  return \"{\\centering\\n%s\\n\\medskip}\" % self.to_latex()\n"
     ]
    },
    {
     "data": {
      "text/html": [
       "<div>\n",
       "<style scoped>\n",
       "    .dataframe tbody tr th:only-of-type {\n",
       "        vertical-align: middle;\n",
       "    }\n",
       "\n",
       "    .dataframe tbody tr th {\n",
       "        vertical-align: top;\n",
       "    }\n",
       "\n",
       "    .dataframe thead th {\n",
       "        text-align: right;\n",
       "    }\n",
       "</style>\n",
       "<table border=\"1\" class=\"dataframe\">\n",
       "  <thead>\n",
       "    <tr style=\"text-align: right;\">\n",
       "      <th></th>\n",
       "      <th>1</th>\n",
       "      <th>2</th>\n",
       "      <th>3</th>\n",
       "      <th>4</th>\n",
       "      <th>5</th>\n",
       "      <th>6</th>\n",
       "      <th>7</th>\n",
       "      <th>8</th>\n",
       "      <th>9</th>\n",
       "      <th>10</th>\n",
       "    </tr>\n",
       "  </thead>\n",
       "  <tbody>\n",
       "    <tr>\n",
       "      <th>total_cost</th>\n",
       "      <td>120</td>\n",
       "      <td>200</td>\n",
       "      <td>280</td>\n",
       "      <td>360</td>\n",
       "      <td>440</td>\n",
       "      <td>520</td>\n",
       "      <td>600</td>\n",
       "      <td>680</td>\n",
       "      <td>760</td>\n",
       "      <td>840</td>\n",
       "    </tr>\n",
       "  </tbody>\n",
       "</table>\n",
       "</div>"
      ],
      "text/latex": [
       "{\\centering\n",
       "\\begin{tabular}{lrrrrrrrrrr}\n",
       "\\toprule\n",
       "{} &   1  &   2  &   3  &   4  &   5  &   6  &   7  &   8  &   9  &   10 \\\\\n",
       "\\midrule\n",
       "total\\_cost &  120 &  200 &  280 &  360 &  440 &  520 &  600 &  680 &  760 &  840 \\\\\n",
       "\\bottomrule\n",
       "\\end{tabular}\n",
       "\n",
       "\\medskip}"
      ],
      "text/plain": [
       "             1    2    3    4    5    6    7    8    9    10\n",
       "total_cost  120  200  280  360  440  520  600  680  760  840"
      ]
     },
     "metadata": {},
     "output_type": "display_data"
    }
   ],
   "source": [
    "display(pd.DataFrame({'total_cost': tot_cost.astype(np.int64)},\n",
    "                    index=people).T)\n",
    "# the capital T does a transpose of the data, makes vert table become horizontal"
   ]
  },
  {
   "cell_type": "code",
   "execution_count": 15,
   "id": "e6e9ce8e",
   "metadata": {},
   "outputs": [
    {
     "data": {
      "text/plain": [
       "Text(0, 0.5, 'Total Cost')"
      ]
     },
     "execution_count": 15,
     "metadata": {},
     "output_type": "execute_result"
    },
    {
     "data": {
      "image/png": "[encoded data removed]",
      "text/plain": [
       "<Figure size 400x300 with 1 Axes>"
      ]
     },
     "metadata": {},
     "output_type": "display_data"
    }
   ],
   "source": [
    "ax = plt.gca()\n",
    "ax.plot(people, tot_cost, 'bo')\n",
    "ax.set_ylabel(\"Total Cost\")"
   ]
  },
  {
   "cell_type": "code",
   "execution_count": null,
   "id": "4a0d24d8",
   "metadata": {},
   "outputs": [],
   "source": [
    "xs = np.\n",
    "\n",
    "ax.set_ylim(-4,4)\n",
    "high_school_style(ax)\n",
    "\n",
    "ax.plot\n",
    "ax.\n",
    "# FINISH THE CODE LATER"
   ]
  },
  {
   "cell_type": "code",
   "execution_count": 16,
   "id": "f0746231",
   "metadata": {},
   "outputs": [
    {
     "ename": "AttributeError",
     "evalue": "module 'numpy' has no attribute 'linespace'",
     "output_type": "error",
     "traceback": [
      "\u001b[1;31m---------------------------------------------------------------------------\u001b[0m",
      "\u001b[1;31mAttributeError\u001b[0m                            Traceback (most recent call last)",
      "\u001b[1;32m~\\AppData\\Local\\Temp\\ipykernel_21044\\3404389504.py\u001b[0m in \u001b[0;36m<module>\u001b[1;34m\u001b[0m\n\u001b[1;32m----> 1\u001b[1;33m \u001b[0mxs\u001b[0m \u001b[1;33m=\u001b[0m \u001b[0mnp\u001b[0m\u001b[1;33m.\u001b[0m\u001b[0mlinespace\u001b[0m\u001b[1;33m(\u001b[0m\u001b[1;33m-\u001b[0m\u001b[1;36m3\u001b[0m\u001b[1;33m,\u001b[0m \u001b[1;36m3\u001b[0m\u001b[1;33m,\u001b[0m \u001b[1;36m100\u001b[0m\u001b[1;33m)\u001b[0m\u001b[1;33m\u001b[0m\u001b[1;33m\u001b[0m\u001b[0m\n\u001b[0m\u001b[0;32m      2\u001b[0m \u001b[0mxs_pl\u001b[0m \u001b[1;33m=\u001b[0m \u001b[0mnp\u001b[0m\u001b[1;33m.\u001b[0m\u001b[0mc_\u001b[0m\u001b[1;33m[\u001b[0m\u001b[0mxs\u001b[0m\u001b[1;33m,\u001b[0m \u001b[0mnp\u001b[0m\u001b[1;33m.\u001b[0m\u001b[0mones_like\u001b[0m\u001b[1;33m(\u001b[0m\u001b[0mxs\u001b[0m\u001b[1;33m)\u001b[0m\u001b[1;33m]\u001b[0m\u001b[1;33m\u001b[0m\u001b[1;33m\u001b[0m\u001b[0m\n\u001b[0;32m      3\u001b[0m \u001b[1;33m\u001b[0m\u001b[0m\n\u001b[0;32m      4\u001b[0m \u001b[0mdisplay\u001b[0m\u001b[1;33m(\u001b[0m\u001b[0mpd\u001b[0m\u001b[1;33m.\u001b[0m\u001b[0mDataFrame\u001b[0m\u001b[1;33m(\u001b[0m\u001b[0mxs_pl\u001b[0m\u001b[1;33m)\u001b[0m\u001b[1;33m.\u001b[0m\u001b[0mhead\u001b[0m\u001b[1;33m(\u001b[0m\u001b[1;33m)\u001b[0m\u001b[1;33m)\u001b[0m\u001b[1;33m\u001b[0m\u001b[1;33m\u001b[0m\u001b[0m\n",
      "\u001b[1;32m~\\anaconda3\\lib\\site-packages\\numpy\\__init__.py\u001b[0m in \u001b[0;36m__getattr__\u001b[1;34m(attr)\u001b[0m\n\u001b[0;32m    311\u001b[0m                 \u001b[1;32mreturn\u001b[0m \u001b[0mTester\u001b[0m\u001b[1;33m\u001b[0m\u001b[1;33m\u001b[0m\u001b[0m\n\u001b[0;32m    312\u001b[0m \u001b[1;33m\u001b[0m\u001b[0m\n\u001b[1;32m--> 313\u001b[1;33m             raise AttributeError(\"module {!r} has no attribute \"\n\u001b[0m\u001b[0;32m    314\u001b[0m                                  \"{!r}\".format(__name__, attr))\n\u001b[0;32m    315\u001b[0m \u001b[1;33m\u001b[0m\u001b[0m\n",
      "\u001b[1;31mAttributeError\u001b[0m: module 'numpy' has no attribute 'linespace'"
     ]
    }
   ],
   "source": [
    "xs = np.linespace(-3, 3, 100)\n",
    "xs_pl = np.c_[xs, np.ones_like(xs)]\n",
    "\n",
    "display(pd.DataFrame(xs_pl).head())\n",
    "# the .head shows the first five rows of data"
   ]
  },
  {
   "cell_type": "code",
   "execution_count": 17,
   "id": "03265bc6",
   "metadata": {},
   "outputs": [
    {
     "ename": "NameError",
     "evalue": "name 'xs_pl' is not defined",
     "output_type": "error",
     "traceback": [
      "\u001b[1;31m---------------------------------------------------------------------------\u001b[0m",
      "\u001b[1;31mNameError\u001b[0m                                 Traceback (most recent call last)",
      "\u001b[1;32m~\\AppData\\Local\\Temp\\ipykernel_21044\\2310663581.py\u001b[0m in \u001b[0;36m<module>\u001b[1;34m\u001b[0m\n\u001b[0;32m      1\u001b[0m \u001b[0mw\u001b[0m \u001b[1;33m=\u001b[0m \u001b[0mnp\u001b[0m\u001b[1;33m.\u001b[0m\u001b[0marray\u001b[0m\u001b[1;33m(\u001b[0m\u001b[1;33m[\u001b[0m\u001b[1;36m1.5\u001b[0m\u001b[1;33m,\u001b[0m \u001b[1;33m-\u001b[0m\u001b[1;36m3\u001b[0m\u001b[1;33m]\u001b[0m\u001b[1;33m)\u001b[0m\u001b[1;33m\u001b[0m\u001b[1;33m\u001b[0m\u001b[0m\n\u001b[1;32m----> 2\u001b[1;33m \u001b[0mys\u001b[0m \u001b[1;33m=\u001b[0m \u001b[0mnp\u001b[0m\u001b[1;33m.\u001b[0m\u001b[0mdot\u001b[0m\u001b[1;33m(\u001b[0m\u001b[0mxs_pl\u001b[0m\u001b[1;33m,\u001b[0m \u001b[0mw\u001b[0m\u001b[1;33m)\u001b[0m\u001b[1;33m\u001b[0m\u001b[1;33m\u001b[0m\u001b[0m\n\u001b[0m",
      "\u001b[1;31mNameError\u001b[0m: name 'xs_pl' is not defined"
     ]
    }
   ],
   "source": [
    "w = np.array([1.5, -3])\n",
    "ys = np.dot(xs_pl, w)"
   ]
  },
  {
   "cell_type": "markdown",
   "id": "cd38d294",
   "metadata": {},
   "source": [
    "# homework"
   ]
  }
 ],
 "metadata": {
  "kernelspec": {
   "display_name": "Python 3 (ipykernel)",
   "language": "python",
   "name": "python3"
  },
  "language_info": {
   "codemirror_mode": {
    "name": "ipython",
    "version": 3
   },
   "file_extension": ".py",
   "mimetype": "text/x-python",
   "name": "python",
   "nbconvert_exporter": "python",
   "pygments_lexer": "ipython3",
   "version": "3.9.13"
  }
 },
 "nbformat": 4,
 "nbformat_minor": 5
}
