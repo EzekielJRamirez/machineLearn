{
 "cells": [
  {
   "cell_type": "markdown",
   "id": "698663bc",
   "metadata": {},
   "source": [
    "Week 5\n",
    "Ezekiel Ramirez\n",
    "\n",
    "read chapters 5, 6, and 7!!!\n",
    "- from which book???\n",
    "- learn to evaualate models\n",
    "- then select the 'best' model\n",
    "    \n",
    "optimization makes code smarter, we need the calculus to improve code\n",
    "\n",
    "lecture 2\n",
    "\n",
    "error and complexity\n",
    "- loss fxn quantifies what happens when model is wrong on single ex\n",
    "- traning loss fxn measures how well our model does on the entire training set\n",
    "\n",
    "review gradient descent and chain rule\n",
    "* find the primer from prof\n",
    "\n",
    "cost\n",
    "- if make model more complex, we can capture any pattern even the really noisy ones\n",
    "- cost = loss + complexity\n",
    "\n",
    "lambda -> trade off between loss and complexity\n",
    "- determines severity of penalty\n",
    "- cost goes up:\n",
    "1. more mistakes made\n",
    "2. if we invest resources in more expensive, but also more flexible, models\n",
    "\n",
    "resample: making more from less\n",
    "- cross validation\n",
    "- stratification\n",
    "- repeated train test splits\n",
    "\n",
    "Bias-Variance Decomposition\n",
    "three sources of error in predicton\n",
    "1. inherent variability in data\n",
    "2. variability in creating our predicting model from training data\n",
    "3. bias of model\n",
    "\n",
    "Bias-Variance in linear regression\n"
   ]
  },
  {
   "cell_type": "code",
   "execution_count": null,
   "id": "80a6fb5e",
   "metadata": {},
   "outputs": [],
   "source": [
    "from mlwpy import *\n",
    "diabetes = datasets.load_diabetes()\n",
    "%matplotlib inline"
   ]
  },
  {
   "cell_type": "code",
   "execution_count": null,
   "id": "b92e7d30",
   "metadata": {},
   "outputs": [],
   "source": [
    "N = 20\n",
    "ftr = np.linespace(-10, 10, num=N)\n",
    "tgt = 2*ftr**2 -3 + np.random.uniform(-2, 2, N)\n",
    "\n",
    "(train_ftr, test_ftr,\n",
    "train_tgt, test_tgt) = skms.train_test_split(ftr, tgt, test_size=N//2)\n",
    "\n",
    "# comment here\n",
    "# check for code on blackboard\n",
    "display(pd.DataFrame({\"ftr\": train}))"
   ]
  },
  {
   "cell_type": "code",
   "execution_count": 1,
   "id": "bb66b7d3",
   "metadata": {},
   "outputs": [
    {
     "name": "stdout",
     "output_type": "stream",
     "text": [
      "[1 2 3]\n"
     ]
    }
   ],
   "source": [
    "# create a vector\n",
    "from numpy import array\n",
    "\n",
    "v = array([1, 2, 3])\n",
    "print(v)"
   ]
  },
  {
   "cell_type": "code",
   "execution_count": null,
   "id": "81ad73fe",
   "metadata": {},
   "outputs": [],
   "source": [
    "#matrix addition\n",
    "# subtract\n",
    "# divide\n",
    "# multiply\n",
    "# dot product"
   ]
  },
  {
   "cell_type": "code",
   "execution_count": null,
   "id": "1e9fe91c",
   "metadata": {},
   "outputs": [],
   "source": [
    "# transpose - rotate the data, col becomes row and vice versa\n",
    "A = array()\n",
    "\n",
    "C = A.t\n",
    "\n",
    "#inverse - \n",
    "# not all matrices have an inverse!!!\n",
    "A = array()\n",
    "\n",
    "B = inv(A)"
   ]
  }
 ],
 "metadata": {
  "kernelspec": {
   "display_name": "Python 3 (ipykernel)",
   "language": "python",
   "name": "python3"
  },
  "language_info": {
   "codemirror_mode": {
    "name": "ipython",
    "version": 3
   },
   "file_extension": ".py",
   "mimetype": "text/x-python",
   "name": "python",
   "nbconvert_exporter": "python",
   "pygments_lexer": "ipython3",
   "version": "3.9.13"
  }
 },
 "nbformat": 4,
 "nbformat_minor": 5
}
